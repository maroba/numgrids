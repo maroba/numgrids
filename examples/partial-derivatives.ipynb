{
 "cells": [
  {
   "cell_type": "markdown",
   "id": "b2215b43",
   "metadata": {},
   "source": [
    "# Partial Derivatives on Grids\n",
    "\n",
    "In this example notebook, we will define a 2D grid on a rectangular domain, sample a function on that grid and compute the sampled partial derivatives along both axes."
   ]
  },
  {
   "cell_type": "markdown",
   "id": "aa81de28",
   "metadata": {},
   "source": [
    "## Defining the grid"
   ]
  },
  {
   "cell_type": "code",
   "execution_count": 8,
   "id": "83d78a41",
   "metadata": {
    "pycharm": {
     "name": "#%%\n"
    }
   },
   "outputs": [],
   "source": [
    "from numgrids import *\n",
    "\n",
    "xaxis = Axis(AxisType.CHEBYSHEV, 10, -1, 1)\n",
    "yaxis = Axis(AxisType.CHEBYSHEV, 20, 1, 5)\n",
    "\n",
    "grid = Grid(xaxis, yaxis)"
   ]
  },
  {
   "cell_type": "markdown",
   "id": "9fac2df5",
   "metadata": {},
   "source": [
    "## Sampling the function\n",
    "\n",
    "As an example, take $f(x, y) = \\sin(x)\\cos(y)$:"
   ]
  },
  {
   "cell_type": "code",
   "execution_count": 9,
   "id": "57f945b3",
   "metadata": {},
   "outputs": [],
   "source": [
    "from numpy import sin, cos\n",
    "\n",
    "X, Y = grid.meshed_coords\n",
    "\n",
    "f = sin(X) * cos(Y)"
   ]
  },
  {
   "cell_type": "code",
   "execution_count": 10,
   "id": "a8e9ac15",
   "metadata": {},
   "outputs": [
    {
     "data": {
      "text/plain": [
       "numpy.ndarray"
      ]
     },
     "execution_count": 10,
     "metadata": {},
     "output_type": "execute_result"
    }
   ],
   "source": [
    "type(f)"
   ]
  },
  {
   "cell_type": "code",
   "execution_count": 11,
   "id": "2685b9c0",
   "metadata": {},
   "outputs": [
    {
     "data": {
      "text/plain": [
       "(10, 20)"
      ]
     },
     "execution_count": 11,
     "metadata": {},
     "output_type": "execute_result"
    }
   ],
   "source": [
    "f.shape"
   ]
  },
  {
   "cell_type": "markdown",
   "id": "2a8f7e5a",
   "metadata": {},
   "source": [
    "## Taking the derivatives"
   ]
  },
  {
   "cell_type": "markdown",
   "id": "21297b38",
   "metadata": {},
   "source": [
    "First we define the partial derivative operators. Along the x-axis (index 0), we have for $\\partial/\\partial x$:"
   ]
  },
  {
   "cell_type": "code",
   "execution_count": 12,
   "id": "e4729937",
   "metadata": {},
   "outputs": [],
   "source": [
    "d_dx = Diff(grid, 1, 0)"
   ]
  },
  {
   "cell_type": "markdown",
   "id": "00804459",
   "metadata": {},
   "source": [
    "The first argument is the grid, the second is the order of the derivative and the third is the axis along which to take the derivative. Analogously, for $\\partial/\\partial y$, we have"
   ]
  },
  {
   "cell_type": "code",
   "execution_count": 13,
   "id": "58e916b5",
   "metadata": {},
   "outputs": [],
   "source": [
    "d_dy = Diff(grid, 1, 1)"
   ]
  },
  {
   "cell_type": "markdown",
   "id": "1c63e99c",
   "metadata": {},
   "source": [
    "Applying the derivatives is a simple matter of calling the operator on the array to differentiate:"
   ]
  },
  {
   "cell_type": "code",
   "execution_count": 14,
   "id": "15ec924b",
   "metadata": {},
   "outputs": [],
   "source": [
    "df_dx = d_dx(f)\n",
    "df_dy = d_dy(f)"
   ]
  },
  {
   "cell_type": "markdown",
   "id": "99e06bd2",
   "metadata": {},
   "source": [
    "Since we have sampled our array `f` from a known function $f(x, y)$, we can compare our result with the analytically known derivatives:"
   ]
  },
  {
   "cell_type": "code",
   "execution_count": 15,
   "id": "1a794cf9",
   "metadata": {},
   "outputs": [],
   "source": [
    "df_dx_exact = cos(X) * cos(Y)\n",
    "df_dy_exact = - sin(X) * sin(Y)"
   ]
  },
  {
   "cell_type": "markdown",
   "id": "f70d4f3c",
   "metadata": {},
   "source": [
    "The error in $\\partial f/\\partial x$ is"
   ]
  },
  {
   "cell_type": "code",
   "execution_count": 17,
   "id": "4888356a",
   "metadata": {},
   "outputs": [
    {
     "data": {
      "text/plain": [
       "1.7191423840046127e-09"
      ]
     },
     "execution_count": 17,
     "metadata": {},
     "output_type": "execute_result"
    }
   ],
   "source": [
    "import numpy as np\n",
    "\n",
    "np.max(np.abs(df_dx - df_dx_exact))"
   ]
  },
  {
   "cell_type": "markdown",
   "id": "0f7bbba3",
   "metadata": {},
   "source": [
    "That's amazing considering the fact that we only have 10 grid points along that axis. That's the power of spectral methods!"
   ]
  },
  {
   "cell_type": "markdown",
   "id": "d536123d",
   "metadata": {},
   "source": [
    "And for the y-axis the error is"
   ]
  },
  {
   "cell_type": "code",
   "execution_count": 18,
   "id": "85226cbb",
   "metadata": {},
   "outputs": [
    {
     "data": {
      "text/plain": [
       "1.3233858453531866e-13"
      ]
     },
     "execution_count": 18,
     "metadata": {},
     "output_type": "execute_result"
    }
   ],
   "source": [
    "np.max(np.abs(df_dy - df_dy_exact))"
   ]
  }
 ],
 "metadata": {
  "kernelspec": {
   "display_name": "Python 3 (ipykernel)",
   "language": "python",
   "name": "python3"
  },
  "language_info": {
   "codemirror_mode": {
    "name": "ipython",
    "version": 3
   },
   "file_extension": ".py",
   "mimetype": "text/x-python",
   "name": "python",
   "nbconvert_exporter": "python",
   "pygments_lexer": "ipython3",
   "version": "3.9.6"
  },
  "varInspector": {
   "cols": {
    "lenName": 16,
    "lenType": 16,
    "lenVar": 40
   },
   "kernels_config": {
    "python": {
     "delete_cmd_postfix": "",
     "delete_cmd_prefix": "del ",
     "library": "var_list.py",
     "varRefreshCmd": "print(var_dic_list())"
    },
    "r": {
     "delete_cmd_postfix": ") ",
     "delete_cmd_prefix": "rm(",
     "library": "var_list.r",
     "varRefreshCmd": "cat(var_dic_list()) "
    }
   },
   "types_to_exclude": [
    "module",
    "function",
    "builtin_function_or_method",
    "instance",
    "_Feature"
   ],
   "window_display": false
  }
 },
 "nbformat": 4,
 "nbformat_minor": 5
}