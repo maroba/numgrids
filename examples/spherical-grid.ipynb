{
 "cells": [
  {
   "cell_type": "markdown",
   "id": "3258b2de",
   "metadata": {},
   "source": [
    "# Spherical Grid"
   ]
  },
  {
   "cell_type": "markdown",
   "id": "3151d14f",
   "metadata": {},
   "source": [
    "In this example notebook, we will construct a grid for the unit sphere using spherical coordinates $r, \\theta, \\varphi$. Then we will define a function $f(r, \\theta, \\varphi$) and define and apply the Laplacian in spherical coordinates to $f$, namely"
   ]
  },
  {
   "cell_type": "markdown",
   "id": "878cc622",
   "metadata": {},
   "source": [
    "$$\n",
    "\\nabla^2 f=\\frac{\\partial^2 f}{\\partial r^2}+\\frac{2}{r} \\frac{\\partial f}{\\partial r}+\\frac{1}{r^2 \\sin \\theta} \\frac{\\partial}{\\partial \\theta}\\left(\\sin \\theta \\frac{\\partial f}{\\partial \\theta}\\right)+\\frac{1}{r^2 \\sin ^2 \\theta} \\frac{\\partial^2 f}{\\partial \\varphi^2}\n",
    "$$"
   ]
  },
  {
   "cell_type": "markdown",
   "id": "422caaca",
   "metadata": {},
   "source": [
    "As you can see, there are a few sensitive points that we have to take care of: the coordinates $r=0$ and $\\theta = 0$ or $\\pi$ would lead to zeros in the denominator. So we cannot sample the grid on the center of the sphere and also not at the north and south poles. Instead, we will use points nearby by using a cutoff parameter."
   ]
  },
  {
   "cell_type": "code",
   "execution_count": 1,
   "id": "c7960d31",
   "metadata": {},
   "outputs": [],
   "source": [
    "from numgrids import *\n",
    "import numpy as np"
   ]
  },
  {
   "cell_type": "code",
   "execution_count": 2,
   "id": "2dcc9b1c",
   "metadata": {},
   "outputs": [],
   "source": [
    "cut_off = 1.E-3"
   ]
  },
  {
   "cell_type": "code",
   "execution_count": 3,
   "id": "9e0747ca",
   "metadata": {},
   "outputs": [],
   "source": [
    "grid = Grid(\n",
    "    Axis(AxisType.CHEBYSHEV, 30, cut_off, 1),  # radial axis\n",
    "    Axis(AxisType.CHEBYSHEV, 30, cut_off, np.pi - cut_off), # polar axis\n",
    "    Axis(AxisType.EQUIDISTANT_PERIODIC, 50, 0, 2*np.pi),  # azimuthal axis\n",
    ")"
   ]
  },
  {
   "cell_type": "markdown",
   "id": "0dd82c3e",
   "metadata": {},
   "source": [
    "So this is the grid. Now construct the Laplacian:"
   ]
  },
  {
   "cell_type": "code",
   "execution_count": 4,
   "id": "bab4599b",
   "metadata": {},
   "outputs": [],
   "source": [
    "R, Theta, Phi = grid.meshed_coords"
   ]
  },
  {
   "cell_type": "code",
   "execution_count": 5,
   "id": "9ea7aa4c",
   "metadata": {},
   "outputs": [],
   "source": [
    "dr2 = Diff(grid, 2, 0)\n",
    "dr = Diff(grid, 1, 0)\n",
    "dtheta = Diff(grid, 1, 1)\n",
    "dphi2 = Diff(grid, 2, 2)\n",
    "\n",
    "def laplacian(f):\n",
    "    \n",
    "    return dr2(f) + 2 / R * dr(f) + \\\n",
    "            1/(R**2 * np.sin(Theta)) * dtheta(np.sin(Theta) * dtheta(f)) + \\\n",
    "            1/(R**2 * np.sin(Theta)**2) * dphi2(f)"
   ]
  },
  {
   "cell_type": "markdown",
   "id": "5029062e",
   "metadata": {},
   "source": [
    "Define the function on the grid. For simplicity we will use $f(r, \\theta, \\varphi) = r^2$ because its\n",
    "Laplacian is simply 6 at every point of the sphere, so that we can easily compare our numerical result with the exact result:"
   ]
  },
  {
   "cell_type": "code",
   "execution_count": 6,
   "id": "63438afd",
   "metadata": {},
   "outputs": [],
   "source": [
    "f = R**2"
   ]
  },
  {
   "cell_type": "code",
   "execution_count": 7,
   "id": "8721b1ae",
   "metadata": {},
   "outputs": [],
   "source": [
    "lap_f = laplacian(f)"
   ]
  },
  {
   "cell_type": "code",
   "execution_count": 8,
   "id": "2d2c4470",
   "metadata": {},
   "outputs": [
    {
     "data": {
      "text/plain": [
       "3.91352052986349e-08"
      ]
     },
     "execution_count": 8,
     "metadata": {},
     "output_type": "execute_result"
    }
   ],
   "source": [
    "np.max(np.abs(lap_f - 6))"
   ]
  },
  {
   "cell_type": "markdown",
   "id": "a3cc5313",
   "metadata": {},
   "source": [
    "Not too bad, after all."
   ]
  }
 ],
 "metadata": {
  "kernelspec": {
   "display_name": "Python 3 (ipykernel)",
   "language": "python",
   "name": "python3"
  },
  "language_info": {
   "codemirror_mode": {
    "name": "ipython",
    "version": 3
   },
   "file_extension": ".py",
   "mimetype": "text/x-python",
   "name": "python",
   "nbconvert_exporter": "python",
   "pygments_lexer": "ipython3",
   "version": "3.9.6"
  },
  "varInspector": {
   "cols": {
    "lenName": 16,
    "lenType": 16,
    "lenVar": 40
   },
   "kernels_config": {
    "python": {
     "delete_cmd_postfix": "",
     "delete_cmd_prefix": "del ",
     "library": "var_list.py",
     "varRefreshCmd": "print(var_dic_list())"
    },
    "r": {
     "delete_cmd_postfix": ") ",
     "delete_cmd_prefix": "rm(",
     "library": "var_list.r",
     "varRefreshCmd": "cat(var_dic_list()) "
    }
   },
   "types_to_exclude": [
    "module",
    "function",
    "builtin_function_or_method",
    "instance",
    "_Feature"
   ],
   "window_display": false
  }
 },
 "nbformat": 4,
 "nbformat_minor": 5
}
